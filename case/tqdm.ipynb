{
 "cells": [
  {
   "cell_type": "code",
   "execution_count": 91,
   "metadata": {},
   "outputs": [],
   "source": [
    "import torch\n",
    "import torch.nn as nn\n",
    "import torch.optim as optim\n",
    "import torch.nn.functional as F\n",
    "from torch.utils.data import DataLoader\n",
    "import torchvision\n",
    "from torchvision import transforms\n",
    "from tqdm import tqdm"
   ]
  },
  {
   "cell_type": "code",
   "execution_count": 92,
   "metadata": {},
   "outputs": [],
   "source": [
    "batch_size=256\n",
    "learning_rate=0.01\n",
    "epochs=100\n",
    "prev_epoch_loss = None"
   ]
  },
  {
   "cell_type": "code",
   "execution_count": 93,
   "metadata": {},
   "outputs": [],
   "source": [
    "tran_method=transforms.Compose([transforms.ToTensor(),transforms.Normalize((0.5,),(1.0,))])\n",
    "Minst_Data=torchvision.datasets.MNIST(root=\"datasets\",train=True,transform=tran_method,download=False)# root只存放根目录\n",
    "data_train_loader=DataLoader(Minst_Data,batch_size=batch_size,shuffle=True)"
   ]
  },
  {
   "cell_type": "code",
   "execution_count": 94,
   "metadata": {},
   "outputs": [],
   "source": [
    "model=torchvision.models.resnet101(num_classes=10)\n",
    "model.conv1=torch.nn.Conv2d(1, 64, (7, 7), (2, 2), (3, 3), bias=False)\n",
    "model=model.cuda()"
   ]
  },
  {
   "cell_type": "code",
   "execution_count": 95,
   "metadata": {},
   "outputs": [],
   "source": [
    "loss_function=nn.CrossEntropyLoss()\n",
    "opt=optim.Adam(model.parameters(),lr=learning_rate)"
   ]
  },
  {
   "cell_type": "code",
   "execution_count": 97,
   "metadata": {},
   "outputs": [
    {
     "name": "stderr",
     "output_type": "stream",
     "text": [
      "Pre_Epoch_Loss: 0.0423 | Epoch [0/100]:   1%|\u001b[32m          \u001b[0m| 2/235 [00:00<00:42,  5.47it/s, batch_number=1, batch_loss=0.0030, lr=0.01]"
     ]
    },
    {
     "name": "stdout",
     "output_type": "stream",
     "text": [
      "2\n",
      "2\n"
     ]
    },
    {
     "name": "stderr",
     "output_type": "stream",
     "text": [
      "Pre_Epoch_Loss: 0.0423 | Epoch [0/100]:   2%|\u001b[32m▏         \u001b[0m| 4/235 [00:00<00:39,  5.86it/s, batch_number=3, batch_loss=0.0118, lr=0.01]"
     ]
    },
    {
     "name": "stdout",
     "output_type": "stream",
     "text": [
      "2\n",
      "2\n"
     ]
    },
    {
     "name": "stderr",
     "output_type": "stream",
     "text": [
      "Pre_Epoch_Loss: 0.0423 | Epoch [0/100]:   3%|\u001b[32m▎         \u001b[0m| 6/235 [00:00<00:36,  6.34it/s, batch_number=5, batch_loss=0.0564, lr=0.01]"
     ]
    },
    {
     "name": "stdout",
     "output_type": "stream",
     "text": [
      "2\n",
      "2\n"
     ]
    },
    {
     "name": "stderr",
     "output_type": "stream",
     "text": [
      "Pre_Epoch_Loss: 0.0423 | Epoch [0/100]:   3%|\u001b[32m▎         \u001b[0m| 8/235 [00:01<00:33,  6.78it/s, batch_number=7, batch_loss=0.0129, lr=0.01]"
     ]
    },
    {
     "name": "stdout",
     "output_type": "stream",
     "text": [
      "2\n",
      "2\n"
     ]
    },
    {
     "name": "stderr",
     "output_type": "stream",
     "text": [
      "Pre_Epoch_Loss: 0.0423 | Epoch [0/100]:   4%|\u001b[32m▍         \u001b[0m| 10/235 [00:01<00:30,  7.27it/s, batch_number=9, batch_loss=0.0102, lr=0.01]"
     ]
    },
    {
     "name": "stdout",
     "output_type": "stream",
     "text": [
      "2\n",
      "2\n"
     ]
    },
    {
     "name": "stderr",
     "output_type": "stream",
     "text": [
      "Pre_Epoch_Loss: 0.0423 | Epoch [0/100]:   5%|\u001b[32m▌         \u001b[0m| 12/235 [00:01<00:33,  6.64it/s, batch_number=11, batch_loss=0.0214, lr=0.01]"
     ]
    },
    {
     "name": "stdout",
     "output_type": "stream",
     "text": [
      "2\n",
      "2\n"
     ]
    },
    {
     "name": "stderr",
     "output_type": "stream",
     "text": [
      "Pre_Epoch_Loss: 0.0423 | Epoch [0/100]:   6%|\u001b[32m▌         \u001b[0m| 14/235 [00:02<00:34,  6.36it/s, batch_number=13, batch_loss=0.0263, lr=0.01]"
     ]
    },
    {
     "name": "stdout",
     "output_type": "stream",
     "text": [
      "2\n",
      "2\n"
     ]
    },
    {
     "name": "stderr",
     "output_type": "stream",
     "text": [
      "Pre_Epoch_Loss: 0.0423 | Epoch [0/100]:   7%|\u001b[32m▋         \u001b[0m| 16/235 [00:02<00:31,  6.95it/s, batch_number=15, batch_loss=0.0424, lr=0.01]"
     ]
    },
    {
     "name": "stdout",
     "output_type": "stream",
     "text": [
      "2\n",
      "2\n"
     ]
    },
    {
     "name": "stderr",
     "output_type": "stream",
     "text": [
      "Pre_Epoch_Loss: 0.0423 | Epoch [0/100]:   8%|\u001b[32m▊         \u001b[0m| 18/235 [00:02<00:33,  6.51it/s, batch_number=17, batch_loss=0.0528, lr=0.01]"
     ]
    },
    {
     "name": "stdout",
     "output_type": "stream",
     "text": [
      "2\n",
      "2\n"
     ]
    },
    {
     "name": "stderr",
     "output_type": "stream",
     "text": [
      "Pre_Epoch_Loss: 0.0423 | Epoch [0/100]:   9%|\u001b[32m▊         \u001b[0m| 20/235 [00:03<00:31,  6.75it/s, batch_number=19, batch_loss=0.0375, lr=0.01]"
     ]
    },
    {
     "name": "stdout",
     "output_type": "stream",
     "text": [
      "2\n",
      "2\n"
     ]
    },
    {
     "name": "stderr",
     "output_type": "stream",
     "text": [
      "Pre_Epoch_Loss: 0.0423 | Epoch [0/100]:   9%|\u001b[32m▉         \u001b[0m| 22/235 [00:03<00:34,  6.09it/s, batch_number=21, batch_loss=0.0192, lr=0.01]"
     ]
    },
    {
     "name": "stdout",
     "output_type": "stream",
     "text": [
      "2\n",
      "2\n"
     ]
    },
    {
     "name": "stderr",
     "output_type": "stream",
     "text": [
      "Pre_Epoch_Loss: 0.0423 | Epoch [0/100]:  10%|\u001b[32m█         \u001b[0m| 24/235 [00:03<00:35,  5.95it/s, batch_number=23, batch_loss=0.0289, lr=0.01]"
     ]
    },
    {
     "name": "stdout",
     "output_type": "stream",
     "text": [
      "2\n",
      "2\n"
     ]
    },
    {
     "name": "stderr",
     "output_type": "stream",
     "text": [
      "Pre_Epoch_Loss: 0.0423 | Epoch [0/100]:  11%|\u001b[32m█         \u001b[0m| 26/235 [00:04<00:32,  6.42it/s, batch_number=25, batch_loss=0.0357, lr=0.01]"
     ]
    },
    {
     "name": "stdout",
     "output_type": "stream",
     "text": [
      "2\n",
      "2\n"
     ]
    },
    {
     "name": "stderr",
     "output_type": "stream",
     "text": [
      "Pre_Epoch_Loss: 0.0423 | Epoch [0/100]:  12%|\u001b[32m█▏        \u001b[0m| 28/235 [00:04<00:29,  7.00it/s, batch_number=27, batch_loss=0.0301, lr=0.01]"
     ]
    },
    {
     "name": "stdout",
     "output_type": "stream",
     "text": [
      "2\n",
      "2\n"
     ]
    },
    {
     "name": "stderr",
     "output_type": "stream",
     "text": [
      "Pre_Epoch_Loss: 0.0423 | Epoch [0/100]:  13%|\u001b[32m█▎        \u001b[0m| 30/235 [00:04<00:31,  6.52it/s, batch_number=29, batch_loss=0.0203, lr=0.01]"
     ]
    },
    {
     "name": "stdout",
     "output_type": "stream",
     "text": [
      "2\n",
      "2\n"
     ]
    },
    {
     "name": "stderr",
     "output_type": "stream",
     "text": [
      "Pre_Epoch_Loss: 0.0423 | Epoch [0/100]:  14%|\u001b[32m█▎        \u001b[0m| 32/235 [00:04<00:32,  6.29it/s, batch_number=31, batch_loss=0.0220, lr=0.01]"
     ]
    },
    {
     "name": "stdout",
     "output_type": "stream",
     "text": [
      "2\n",
      "2\n"
     ]
    },
    {
     "name": "stderr",
     "output_type": "stream",
     "text": [
      "Pre_Epoch_Loss: 0.0423 | Epoch [0/100]:  14%|\u001b[32m█▍        \u001b[0m| 34/235 [00:05<00:29,  6.87it/s, batch_number=33, batch_loss=0.0170, lr=0.01]"
     ]
    },
    {
     "name": "stdout",
     "output_type": "stream",
     "text": [
      "2\n",
      "2\n"
     ]
    },
    {
     "name": "stderr",
     "output_type": "stream",
     "text": [
      "Pre_Epoch_Loss: 0.0423 | Epoch [0/100]:  15%|\u001b[32m█▌        \u001b[0m| 36/235 [00:05<00:30,  6.47it/s, batch_number=35, batch_loss=0.0641, lr=0.01]"
     ]
    },
    {
     "name": "stdout",
     "output_type": "stream",
     "text": [
      "2\n",
      "2\n"
     ]
    },
    {
     "name": "stderr",
     "output_type": "stream",
     "text": [
      "Pre_Epoch_Loss: 0.0423 | Epoch [0/100]:  16%|\u001b[32m█▌        \u001b[0m| 38/235 [00:05<00:30,  6.48it/s, batch_number=37, batch_loss=0.0603, lr=0.01]"
     ]
    },
    {
     "name": "stdout",
     "output_type": "stream",
     "text": [
      "2\n",
      "2\n"
     ]
    },
    {
     "name": "stderr",
     "output_type": "stream",
     "text": [
      "Pre_Epoch_Loss: 0.0423 | Epoch [0/100]:  17%|\u001b[32m█▋        \u001b[0m| 40/235 [00:06<00:32,  5.98it/s, batch_number=39, batch_loss=0.0312, lr=0.01]"
     ]
    },
    {
     "name": "stdout",
     "output_type": "stream",
     "text": [
      "2\n",
      "2\n"
     ]
    },
    {
     "name": "stderr",
     "output_type": "stream",
     "text": [
      "Pre_Epoch_Loss: 0.0423 | Epoch [0/100]:  18%|\u001b[32m█▊        \u001b[0m| 42/235 [00:06<00:32,  5.91it/s, batch_number=41, batch_loss=0.0132, lr=0.01]"
     ]
    },
    {
     "name": "stdout",
     "output_type": "stream",
     "text": [
      "2\n",
      "2\n"
     ]
    },
    {
     "name": "stderr",
     "output_type": "stream",
     "text": [
      "Pre_Epoch_Loss: 0.0423 | Epoch [0/100]:  19%|\u001b[32m█▊        \u001b[0m| 44/235 [00:06<00:32,  5.94it/s, batch_number=43, batch_loss=0.0707, lr=0.01]"
     ]
    },
    {
     "name": "stdout",
     "output_type": "stream",
     "text": [
      "2\n",
      "2\n"
     ]
    },
    {
     "name": "stderr",
     "output_type": "stream",
     "text": [
      "Pre_Epoch_Loss: 0.0423 | Epoch [0/100]:  20%|\u001b[32m█▉        \u001b[0m| 46/235 [00:07<00:31,  6.02it/s, batch_number=45, batch_loss=0.0474, lr=0.01]"
     ]
    },
    {
     "name": "stdout",
     "output_type": "stream",
     "text": [
      "2\n",
      "2\n"
     ]
    },
    {
     "name": "stderr",
     "output_type": "stream",
     "text": [
      "Pre_Epoch_Loss: 0.0423 | Epoch [0/100]:  20%|\u001b[32m██        \u001b[0m| 48/235 [00:07<00:26,  6.93it/s, batch_number=47, batch_loss=0.0041, lr=0.01]"
     ]
    },
    {
     "name": "stdout",
     "output_type": "stream",
     "text": [
      "2\n",
      "2\n"
     ]
    },
    {
     "name": "stderr",
     "output_type": "stream",
     "text": [
      "Pre_Epoch_Loss: 0.0423 | Epoch [0/100]:  21%|\u001b[32m██▏       \u001b[0m| 50/235 [00:07<00:28,  6.45it/s, batch_number=49, batch_loss=0.0162, lr=0.01]"
     ]
    },
    {
     "name": "stdout",
     "output_type": "stream",
     "text": [
      "2\n",
      "2\n"
     ]
    },
    {
     "name": "stderr",
     "output_type": "stream",
     "text": [
      "Pre_Epoch_Loss: 0.0423 | Epoch [0/100]:  22%|\u001b[32m██▏       \u001b[0m| 52/235 [00:08<00:27,  6.76it/s, batch_number=51, batch_loss=0.0104, lr=0.01]"
     ]
    },
    {
     "name": "stdout",
     "output_type": "stream",
     "text": [
      "2\n",
      "2\n"
     ]
    },
    {
     "name": "stderr",
     "output_type": "stream",
     "text": [
      "Pre_Epoch_Loss: 0.0423 | Epoch [0/100]:  23%|\u001b[32m██▎       \u001b[0m| 54/235 [00:08<00:28,  6.38it/s, batch_number=53, batch_loss=0.0211, lr=0.01]"
     ]
    },
    {
     "name": "stdout",
     "output_type": "stream",
     "text": [
      "2\n",
      "2\n"
     ]
    },
    {
     "name": "stderr",
     "output_type": "stream",
     "text": [
      "Pre_Epoch_Loss: 0.0423 | Epoch [0/100]:  24%|\u001b[32m██▍       \u001b[0m| 56/235 [00:08<00:28,  6.19it/s, batch_number=55, batch_loss=0.0516, lr=0.01]"
     ]
    },
    {
     "name": "stdout",
     "output_type": "stream",
     "text": [
      "2\n",
      "2\n"
     ]
    },
    {
     "name": "stderr",
     "output_type": "stream",
     "text": [
      "Pre_Epoch_Loss: 0.0423 | Epoch [0/100]:  25%|\u001b[32m██▍       \u001b[0m| 58/235 [00:09<00:29,  6.06it/s, batch_number=57, batch_loss=0.0119, lr=0.01]"
     ]
    },
    {
     "name": "stdout",
     "output_type": "stream",
     "text": [
      "2\n",
      "2\n"
     ]
    },
    {
     "name": "stderr",
     "output_type": "stream",
     "text": [
      "Pre_Epoch_Loss: 0.0423 | Epoch [0/100]:  26%|\u001b[32m██▌       \u001b[0m| 60/235 [00:09<00:28,  6.10it/s, batch_number=59, batch_loss=0.0336, lr=0.01]"
     ]
    },
    {
     "name": "stdout",
     "output_type": "stream",
     "text": [
      "2\n",
      "2\n"
     ]
    },
    {
     "name": "stderr",
     "output_type": "stream",
     "text": [
      "Pre_Epoch_Loss: 0.0423 | Epoch [0/100]:  26%|\u001b[32m██▋       \u001b[0m| 62/235 [00:09<00:25,  6.71it/s, batch_number=61, batch_loss=0.0085, lr=0.01]"
     ]
    },
    {
     "name": "stdout",
     "output_type": "stream",
     "text": [
      "2\n",
      "2\n"
     ]
    },
    {
     "name": "stderr",
     "output_type": "stream",
     "text": [
      "Pre_Epoch_Loss: 0.0423 | Epoch [0/100]:  27%|\u001b[32m██▋       \u001b[0m| 64/235 [00:10<00:27,  6.33it/s, batch_number=63, batch_loss=0.0365, lr=0.01]"
     ]
    },
    {
     "name": "stdout",
     "output_type": "stream",
     "text": [
      "2\n",
      "2\n"
     ]
    },
    {
     "name": "stderr",
     "output_type": "stream",
     "text": [
      "Pre_Epoch_Loss: 0.0423 | Epoch [0/100]:  28%|\u001b[32m██▊       \u001b[0m| 66/235 [00:10<00:25,  6.69it/s, batch_number=65, batch_loss=0.0276, lr=0.01]"
     ]
    },
    {
     "name": "stdout",
     "output_type": "stream",
     "text": [
      "2\n",
      "2\n"
     ]
    },
    {
     "name": "stderr",
     "output_type": "stream",
     "text": [
      "Pre_Epoch_Loss: 0.0423 | Epoch [0/100]:  29%|\u001b[32m██▊       \u001b[0m| 67/235 [00:10<00:26,  6.28it/s, batch_number=66, batch_loss=0.0245, lr=0.01]"
     ]
    },
    {
     "name": "stdout",
     "output_type": "stream",
     "text": [
      "2\n"
     ]
    },
    {
     "name": "stderr",
     "output_type": "stream",
     "text": [
      "\n"
     ]
    },
    {
     "ename": "KeyboardInterrupt",
     "evalue": "",
     "output_type": "error",
     "traceback": [
      "\u001b[0;31m---------------------------------------------------------------------------\u001b[0m",
      "\u001b[0;31mKeyboardInterrupt\u001b[0m                         Traceback (most recent call last)",
      "Cell \u001b[0;32mIn[97], line 23\u001b[0m\n\u001b[1;32m     20\u001b[0m loss\u001b[38;5;241m.\u001b[39mbackward()\n\u001b[1;32m     21\u001b[0m opt\u001b[38;5;241m.\u001b[39mstep()\n\u001b[0;32m---> 23\u001b[0m epoch_loss \u001b[38;5;241m+\u001b[39m\u001b[38;5;241m=\u001b[39m \u001b[43mloss\u001b[49m\u001b[38;5;241;43m.\u001b[39;49m\u001b[43mitem\u001b[49m\u001b[43m(\u001b[49m\u001b[43m)\u001b[49m \u001b[38;5;241m*\u001b[39m \u001b[38;5;28mlen\u001b[39m(data)   \u001b[38;5;66;03m# 乘以batch样本数\u001b[39;00m\n\u001b[1;32m     24\u001b[0m total_samples \u001b[38;5;241m+\u001b[39m\u001b[38;5;241m=\u001b[39m \u001b[38;5;28mlen\u001b[39m(data)\n\u001b[1;32m     25\u001b[0m \u001b[38;5;28mprint\u001b[39m(\u001b[38;5;28mlen\u001b[39m(data))\n",
      "\u001b[0;31mKeyboardInterrupt\u001b[0m: "
     ]
    }
   ],
   "source": [
    "\n",
    "for epoch in range(epochs):\n",
    "    epoch_acc=[]\n",
    "    model.train()\n",
    "    progress_bar = tqdm(enumerate(data_train_loader), \n",
    "                        total=len(data_train_loader), \n",
    "                        desc=f'Pre_Epoch_Loss: {prev_epoch_loss:.4f} | Epoch [{epoch}/{epochs}]' if prev_epoch_loss is not None \n",
    "             else f'Epoch [{epoch}/{epochs}] (First run)',\n",
    "                        # bar_format='{l_bar}{bar:20}{r_bar}{bar:-20b}',  # 自定义进度条样式\n",
    "                        leave=True,\n",
    "                        colour='green')\n",
    "    # 初始化当前epoch累计损失\n",
    "    epoch_loss = 0.0\n",
    "    total_samples = 0  # 用于准确计算平均损失\n",
    "    for batch_number,data in progress_bar:\n",
    "        images,label=data\n",
    "        images,label=images.cuda(),label.cuda()\n",
    "        opt.zero_grad()\n",
    "        label_pred=model(images)\n",
    "        loss=loss_function(label_pred,label)\n",
    "        loss.backward()\n",
    "        opt.step()\n",
    "\n",
    "        epoch_loss += loss.item() * batch_size   # 乘以batch样本数\n",
    "        total_samples += batch_size\n",
    "        progress_bar.set_postfix({\n",
    "            'batch_number': batch_number,          # 显示当前batch索引\n",
    "            'batch_loss': f'{loss.item():.4f}', # 保留4位小数\n",
    "            # 'acc': f'{accuracy:.2%}'     # 百分比显示\n",
    "            'lr': f'{learning_rate:.2f}'    \n",
    "        })\n",
    "    avg_epoch_loss = epoch_loss / total_samples  # 正确计算方式\n",
    "    prev_epoch_loss = avg_epoch_loss\n",
    "\n",
    "\n",
    "\n",
    "\n",
    "\n",
    "\n"
   ]
  },
  {
   "cell_type": "code",
   "execution_count": null,
   "metadata": {},
   "outputs": [],
   "source": []
  }
 ],
 "metadata": {
  "kernelspec": {
   "display_name": "pytorch",
   "language": "python",
   "name": "torch"
  },
  "language_info": {
   "codemirror_mode": {
    "name": "ipython",
    "version": 3
   },
   "file_extension": ".py",
   "mimetype": "text/x-python",
   "name": "python",
   "nbconvert_exporter": "python",
   "pygments_lexer": "ipython3",
   "version": "3.10.16"
  },
  "orig_nbformat": 4
 },
 "nbformat": 4,
 "nbformat_minor": 2
}
