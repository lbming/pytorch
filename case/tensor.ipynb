{
 "cells": [
  {
   "cell_type": "markdown",
   "metadata": {},
   "source": [
    "torch.view"
   ]
  },
  {
   "cell_type": "code",
   "execution_count": 1,
   "metadata": {},
   "outputs": [
    {
     "name": "stdout",
     "output_type": "stream",
     "text": [
      "tensor([[-0.4662],\n",
      "        [-0.3611],\n",
      "        [-1.1811],\n",
      "        ...,\n",
      "        [-1.4443],\n",
      "        [-0.2704],\n",
      "        [ 0.6452]])\n"
     ]
    }
   ],
   "source": [
    "import torch\n",
    "data=torch.randn(28,28)\n",
    "#展开成一维\n",
    "data_1=data.view(28*28)\n",
    "#相当于固定数据为14行,自己计算多少列\n",
    "data_2=data.view(14,-1)\n",
    "data_2.shape\n",
    "#相当于固定数据为14列,自己计算多少行\n",
    "data_3=data.view(-1,14)\n",
    "data_3.shape\n",
    "# 此时由二维变三维,[28,28]->[channel,56,14]\n",
    "data_4=data.view(1,-1,14)\n",
    "data_4.shape\n",
    "#二维到四维\n",
    "data_5=torch.randn(32,28*28).view(32,-1,28,28)\n",
    "data_5.size()\n",
    "print(data_5.view(-1,1))"
   ]
  },
  {
   "cell_type": "code",
   "execution_count": 4,
   "metadata": {},
   "outputs": [
    {
     "name": "stdout",
     "output_type": "stream",
     "text": [
      "2\n"
     ]
    }
   ],
   "source": [
    "print()\n"
   ]
  },
  {
   "cell_type": "code",
   "execution_count": null,
   "metadata": {},
   "outputs": [],
   "source": []
  },
  {
   "cell_type": "code",
   "execution_count": null,
   "metadata": {},
   "outputs": [],
   "source": [
    "\n"
   ]
  },
  {
   "cell_type": "code",
   "execution_count": null,
   "metadata": {},
   "outputs": [],
   "source": []
  },
  {
   "cell_type": "code",
   "execution_count": null,
   "metadata": {},
   "outputs": [],
   "source": []
  },
  {
   "cell_type": "code",
   "execution_count": null,
   "metadata": {},
   "outputs": [],
   "source": []
  },
  {
   "cell_type": "code",
   "execution_count": null,
   "metadata": {},
   "outputs": [],
   "source": []
  }
 ],
 "metadata": {
  "kernelspec": {
   "display_name": "Python 3.10.16 ('pytorch')",
   "language": "python",
   "name": "python3"
  },
  "language_info": {
   "codemirror_mode": {
    "name": "ipython",
    "version": 3
   },
   "file_extension": ".py",
   "mimetype": "text/x-python",
   "name": "python",
   "nbconvert_exporter": "python",
   "pygments_lexer": "ipython3",
   "version": "3.10.16"
  },
  "orig_nbformat": 4,
  "vscode": {
   "interpreter": {
    "hash": "af1b4c1db058a7155c8f5c20d160cd6853bb5f4bb2ee9ca10d34ffdf465b28d3"
   }
  }
 },
 "nbformat": 4,
 "nbformat_minor": 2
}
