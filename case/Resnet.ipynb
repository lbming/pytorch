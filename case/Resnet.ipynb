{
 "cells": [
  {
   "cell_type": "markdown",
   "metadata": {},
   "source": []
  },
  {
   "cell_type": "code",
   "execution_count": null,
   "metadata": {},
   "outputs": [],
   "source": []
  },
  {
   "cell_type": "code",
   "execution_count": 3,
   "metadata": {},
   "outputs": [
    {
     "data": {
      "text/plain": [
       "tensor([[[[0.1189, 0.4298, 0.0157],\n",
       "          [0.8148, 0.9498, 0.1590],\n",
       "          [0.2781, 0.8266, 0.2296],\n",
       "          ...,\n",
       "          [0.3227, 0.2855, 0.4448],\n",
       "          [0.0092, 0.9500, 0.0877],\n",
       "          [0.6579, 0.1079, 0.9920]],\n",
       "\n",
       "         [[0.3084, 0.0032, 0.8688],\n",
       "          [0.2746, 0.4422, 0.7989],\n",
       "          [0.9359, 0.5739, 0.4175],\n",
       "          ...,\n",
       "          [0.2287, 0.1511, 0.7605],\n",
       "          [0.5576, 0.8739, 0.0709],\n",
       "          [0.3266, 0.6438, 0.2952]],\n",
       "\n",
       "         [[0.1571, 0.4217, 0.2820],\n",
       "          [0.3098, 0.7698, 0.3235],\n",
       "          [0.1583, 0.1611, 0.8990],\n",
       "          ...,\n",
       "          [0.9392, 0.7281, 0.4124],\n",
       "          [0.0796, 0.4755, 0.5530],\n",
       "          [0.2238, 0.8319, 0.4767]],\n",
       "\n",
       "         ...,\n",
       "\n",
       "         [[0.9700, 0.3403, 0.8972],\n",
       "          [0.1207, 0.4788, 0.0760],\n",
       "          [0.0171, 0.1534, 0.5785],\n",
       "          ...,\n",
       "          [0.5559, 0.0947, 0.3716],\n",
       "          [0.3570, 0.8826, 0.7834],\n",
       "          [0.2706, 0.2291, 0.2213]],\n",
       "\n",
       "         [[0.3997, 0.5300, 0.4465],\n",
       "          [0.6686, 0.6569, 0.1519],\n",
       "          [0.9174, 0.3553, 0.0142],\n",
       "          ...,\n",
       "          [0.0915, 0.9947, 0.5272],\n",
       "          [0.5061, 0.2481, 0.0596],\n",
       "          [0.5251, 0.2249, 0.2838]],\n",
       "\n",
       "         [[0.6665, 0.1125, 0.3885],\n",
       "          [0.4887, 0.6747, 0.9226],\n",
       "          [0.4939, 0.7672, 0.7844],\n",
       "          ...,\n",
       "          [0.8661, 0.1719, 0.0867],\n",
       "          [0.6667, 0.7767, 0.9896],\n",
       "          [0.4005, 0.9758, 0.7494]]]])"
      ]
     },
     "execution_count": 3,
     "metadata": {},
     "output_type": "execute_result"
    }
   ],
   "source": [
    "import torch\n",
    "a=torch.rand(1,64,64,3)\n",
    "a"
   ]
  },
  {
   "cell_type": "code",
   "execution_count": null,
   "metadata": {},
   "outputs": [],
   "source": []
  },
  {
   "cell_type": "code",
   "execution_count": null,
   "metadata": {},
   "outputs": [],
   "source": []
  },
  {
   "cell_type": "code",
   "execution_count": null,
   "metadata": {},
   "outputs": [],
   "source": []
  }
 ],
 "metadata": {
  "kernelspec": {
   "display_name": "Python 3.6.9 64-bit",
   "language": "python",
   "name": "python3"
  },
  "language_info": {
   "codemirror_mode": {
    "name": "ipython",
    "version": 3
   },
   "file_extension": ".py",
   "mimetype": "text/x-python",
   "name": "python",
   "nbconvert_exporter": "python",
   "pygments_lexer": "ipython3",
   "version": "3.6.9"
  },
  "orig_nbformat": 4,
  "vscode": {
   "interpreter": {
    "hash": "31f2aee4e71d21fbe5cf8b01ff0e069b9275f58929596ceb00d14d90e3e16cd6"
   }
  }
 },
 "nbformat": 4,
 "nbformat_minor": 2
}
